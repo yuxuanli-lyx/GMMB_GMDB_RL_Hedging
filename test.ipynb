{
 "cells": [
  {
   "cell_type": "code",
   "execution_count": null,
   "metadata": {
    "pycharm": {
     "name": "#%%\n"
    }
   },
   "outputs": [],
   "source": [
    "import numpy as np\n",
    "import pandas as pd\n",
    "\n",
    "from utils.formulas import net_liability_bs_cfm\n",
    "from utils.formulas import delta_bs_cfm\n",
    "from utils.formulas import integral_evaluator\n",
    "from utils.envs import TradingEnvUnderBSCFM\n",
    "from utils.agent import DeltaAgentBSCFM, DeltaAgentBSIFM, DeltaAgentHestonCFM, DeltaAgentHestonIFM\n",
    "import matplotlib.pyplot as plt\n",
    "from tqdm import tqdm\n",
    "import time\n",
    "from stable_baselines import PPO2\n",
    "import pickle"
   ]
  },
  {
   "cell_type": "markdown",
   "metadata": {
    "pycharm": {
     "name": "#%% md\n"
    }
   },
   "source": [
    "### Test Section"
   ]
  },
  {
   "cell_type": "markdown",
   "metadata": {
    "pycharm": {
     "name": "#%% md\n"
    }
   },
   "source": [
    "#### Integral Evaluator Test"
   ]
  },
  {
   "cell_type": "code",
   "execution_count": null,
   "metadata": {
    "pycharm": {
     "name": "#%%\n"
    }
   },
   "outputs": [],
   "source": [
    "from scipy.integrate import quad_vec"
   ]
  },
  {
   "cell_type": "code",
   "execution_count": null,
   "metadata": {
    "pycharm": {
     "name": "#%%\n"
    }
   },
   "outputs": [],
   "source": [
    "# compare with quad_vec\n",
    "pts = np.linspace(0, 2, 100)\n",
    "func = lambda s: s ** pts\n",
    "quad_result = quad_vec(func, 0, 1)[0]"
   ]
  },
  {
   "cell_type": "code",
   "execution_count": null,
   "metadata": {
    "pycharm": {
     "name": "#%%\n"
    }
   },
   "outputs": [],
   "source": [
    "# result from integral evaluator\n",
    "int_eval_result = integral_evaluator(func, 0, 1)"
   ]
  },
  {
   "cell_type": "code",
   "execution_count": null,
   "metadata": {
    "pycharm": {
     "name": "#%%\n"
    }
   },
   "outputs": [],
   "source": [
    "# visualization\n",
    "plt.plot(quad_result, label='Quad_Package')\n",
    "plt.plot(int_eval_result, label='Evaluator')\n",
    "plt.legend()\n",
    "plt.show()"
   ]
  },
  {
   "cell_type": "code",
   "execution_count": null,
   "metadata": {
    "pycharm": {
     "name": "#%%\n"
    }
   },
   "outputs": [],
   "source": [
    "# what is the max norm of the difference?\n",
    "np.abs(np.max(quad_result - int_eval_result))"
   ]
  },
  {
   "cell_type": "code",
   "execution_count": null,
   "metadata": {
    "pycharm": {
     "name": "#%%\n"
    }
   },
   "outputs": [],
   "source": [
    "# running time for quad_vec\n",
    "time_start_quad = time.time()\n",
    "for _ in range(1000):\n",
    "    quad_result = quad_vec(func, 0, 1)[0]\n",
    "time_end_quad = time.time()\n",
    "print('time taken by quad_vec: ', time_end_quad - time_start_quad)"
   ]
  },
  {
   "cell_type": "code",
   "execution_count": null,
   "metadata": {
    "pycharm": {
     "name": "#%%\n"
    }
   },
   "outputs": [],
   "source": [
    "# running time for integral evaluator\n",
    "time_start_int = time.time()\n",
    "for _ in range(1000):\n",
    "    int_result = integral_evaluator(func, 0, 1)\n",
    "time_end_int = time.time()\n",
    "print('time taken by integral evaluator: ', time_end_int - time_start_int)"
   ]
  },
  {
   "cell_type": "markdown",
   "metadata": {},
   "source": [
    "#### Net Liability Calculator and Delta Calculator Test"
   ]
  },
  {
   "cell_type": "code",
   "execution_count": null,
   "metadata": {
    "pycharm": {
     "name": "#%%\n"
    }
   },
   "outputs": [],
   "source": [
    "Ft = np.array([80, 90, 100, 150, 200])\n",
    "t = np.array([1, 1, 1, 1, 1])\n",
    "net_liability_bs_cfm(Ft, t, 100, 100, 0.03, 0.03, 0.03 * 0.95, 1, 0.02, 0.1)"
   ]
  },
  {
   "cell_type": "code",
   "execution_count": null,
   "metadata": {
    "pycharm": {
     "name": "#%%\n"
    }
   },
   "outputs": [],
   "source": [
    "Ft = np.array([80, 90, 100, 150, 200])\n",
    "Ft"
   ]
  },
  {
   "cell_type": "code",
   "execution_count": null,
   "metadata": {
    "pycharm": {
     "name": "#%%\n"
    }
   },
   "outputs": [],
   "source": [
    "Ft = np.array([80, 90, 100, 150, 200])\n",
    "t = np.array([0, 0, 0, 0, 0])\n",
    "delta_bs_cfm(Ft, t, 100, 100, 0.0, 0.0, 0.0, 1, 0.02, 0.1, 1)"
   ]
  },
  {
   "cell_type": "markdown",
   "metadata": {
    "pycharm": {
     "name": "#%% md\n"
    }
   },
   "source": [
    "### Baseline Evaluation Section"
   ]
  },
  {
   "cell_type": "markdown",
   "metadata": {
    "pycharm": {
     "name": "#%% md\n"
    }
   },
   "source": [
    "#### Trading Environment Setup"
   ]
  },
  {
   "cell_type": "code",
   "execution_count": null,
   "metadata": {
    "pycharm": {
     "name": "#%%\n"
    }
   },
   "outputs": [],
   "source": [
    "S0 = 100\n",
    "mu = 0.08\n",
    "sigma = 0.2\n",
    "num_steps = 252\n",
    "r = 0.02\n",
    "T = 1\n",
    "N0 = 1\n",
    "Gm = 100\n",
    "Gd = 100\n",
    "rho = 1.19\n",
    "fom = 0.02\n",
    "financial_market_params = {'S0': S0, 'r': r, 'mu': mu, 'sigma': sigma, 'num_steps': num_steps}\n",
    "actuarial_market_params = {'N0': N0, 'Gm': Gm, 'Gd': Gd, 'rho': rho, 'fom': fom, 'T': T}"
   ]
  },
  {
   "cell_type": "code",
   "execution_count": null,
   "metadata": {
    "pycharm": {
     "name": "#%%\n"
    }
   },
   "outputs": [],
   "source": [
    "n_episode = 5000\n",
    "env = TradingEnvUnderBSCFM(financial_market_params, actuarial_market_params, reward_type='evaluation')"
   ]
  },
  {
   "cell_type": "markdown",
   "metadata": {
    "pycharm": {
     "name": "#%% md\n"
    }
   },
   "source": [
    "#### Performance of Delta"
   ]
  },
  {
   "cell_type": "code",
   "execution_count": null,
   "metadata": {
    "pycharm": {
     "name": "#%%\n"
    }
   },
   "outputs": [],
   "source": [
    "%%time\n",
    "pl_delta = []\n",
    "for _ in tqdm(range(n_episode)):\n",
    "    env.seed(_)\n",
    "    env.reset()\n",
    "    Ft_traj = env._Ft_traj\n",
    "    timeline = np.arange(env._total_steps + 1) * env._dt\n",
    "    delta_agent = DeltaAgentBSCFM(Ft_traj, timeline, Gm, Gd, fom, env._m, env._m * 0.95, T, r, sigma, rho)\n",
    "    done = False\n",
    "    t_idx = 0\n",
    "    while not done:\n",
    "        action = delta_agent.predict(t_idx)\n",
    "        obs, reward, done, info = env.step(action)\n",
    "        t_idx += 1\n",
    "    pl_delta.append(reward)\n",
    "pl_delta = np.array(pl_delta)"
   ]
  },
  {
   "cell_type": "code",
   "execution_count": null,
   "metadata": {
    "pycharm": {
     "name": "#%%\n"
    }
   },
   "outputs": [],
   "source": [
    "# a_file = open(\"./data_delta_bs_cfm.pkl\", \"wb\")\n",
    "# pickle.dump(pl_delta, a_file)\n",
    "# a_file.close()"
   ]
  },
  {
   "cell_type": "markdown",
   "metadata": {
    "pycharm": {
     "name": "#%% md\n"
    }
   },
   "source": [
    "#### Performance of RL Agent"
   ]
  },
  {
   "cell_type": "code",
   "execution_count": null,
   "metadata": {
    "pycharm": {
     "name": "#%%\n"
    }
   },
   "outputs": [],
   "source": [
    "eval_model_id = './pilot_model_trial_1.zip'\n",
    "model = PPO2.load(eval_model_id)"
   ]
  },
  {
   "cell_type": "code",
   "execution_count": null,
   "metadata": {
    "pycharm": {
     "name": "#%%\n"
    }
   },
   "outputs": [],
   "source": [
    "%%time\n",
    "pl_rl = []\n",
    "for _ in tqdm(range(n_episode)):\n",
    "    env.seed(_)\n",
    "    obs = env.reset()\n",
    "    done = False\n",
    "    while not done:\n",
    "        action, _states = model.predict(obs, deterministic=True)\n",
    "        obs, reward, done, info = env.step(action)\n",
    "    pl_rl.append(reward)\n",
    "pl_rl = np.array(pl_rl)"
   ]
  },
  {
   "cell_type": "code",
   "execution_count": null,
   "metadata": {
    "pycharm": {
     "name": "#%%\n"
    }
   },
   "outputs": [],
   "source": [
    "# a_file = open(\"./data_rl.pkl\", \"wb\")\n",
    "# pickle.dump(pl_rl, a_file)\n",
    "# a_file.close()"
   ]
  },
  {
   "cell_type": "markdown",
   "metadata": {
    "pycharm": {
     "name": "#%% md\n"
    }
   },
   "source": [
    "#### Performance of Misspecified Deltas"
   ]
  },
  {
   "cell_type": "markdown",
   "metadata": {
    "pycharm": {
     "name": "#%% md\n"
    }
   },
   "source": [
    "##### BS + IFM"
   ]
  },
  {
   "cell_type": "code",
   "execution_count": null,
   "metadata": {
    "pycharm": {
     "name": "#%%\n"
    }
   },
   "outputs": [],
   "source": [
    "%%time\n",
    "pl_delta = []\n",
    "for _ in tqdm(range(n_episode)):\n",
    "    env.seed(_)\n",
    "    env.reset()\n",
    "    Ft_traj = env._Ft_traj\n",
    "    timeline = np.arange(env._total_steps + 1) * env._dt\n",
    "    delta_agent = DeltaAgentBSIFM(Ft_traj, timeline, Gm, Gd, 50, env._m, env._m * 0.95, T, r, sigma, rho)\n",
    "    done = False\n",
    "    t_idx = 0\n",
    "    while not done:\n",
    "        action = delta_agent.predict(t_idx)\n",
    "        obs, reward, done, info = env.step(action)\n",
    "        t_idx += 1\n",
    "    pl_delta.append(reward)\n",
    "pl_delta = np.array(pl_delta)"
   ]
  },
  {
   "cell_type": "code",
   "execution_count": null,
   "metadata": {
    "pycharm": {
     "name": "#%%\n"
    }
   },
   "outputs": [],
   "source": [
    "# a_file = open(\"./data_delta_bs_ifm.pkl\", \"wb\")\n",
    "# pickle.dump(pl_delta, a_file)\n",
    "# a_file.close()"
   ]
  },
  {
   "cell_type": "markdown",
   "metadata": {
    "pycharm": {
     "name": "#%% md\n"
    }
   },
   "source": [
    "##### Heston + CFM"
   ]
  },
  {
   "cell_type": "code",
   "execution_count": null,
   "metadata": {
    "pycharm": {
     "name": "#%%\n"
    }
   },
   "outputs": [],
   "source": [
    "%%time\n",
    "pl_delta = []\n",
    "for _ in tqdm(range(n_episode)):\n",
    "    env.seed(_)\n",
    "    obs = env.reset()\n",
    "    delta_agent = DeltaAgentHestonCFM(Gm, Gd, fom, env._m, env._m * 0.95, T, r, sigma, rho,\n",
    "                                  0.2, 0.04, 0.1, -0.5, rho * S0)\n",
    "    done = False\n",
    "    while not done:\n",
    "        Ft = np.exp(obs[0])\n",
    "        t = T - obs[-1]\n",
    "        action = delta_agent.predict(Ft, t)\n",
    "        obs, reward, done, info = env.step(action)\n",
    "    pl_delta.append(reward)\n",
    "pl_delta = np.array(pl_delta)"
   ]
  },
  {
   "cell_type": "code",
   "execution_count": null,
   "metadata": {
    "pycharm": {
     "name": "#%%\n"
    }
   },
   "outputs": [],
   "source": [
    "# a_file = open(\"./data_delta_heston_cfm.pkl\", \"wb\")\n",
    "# pickle.dump(pl_delta, a_file)\n",
    "# a_file.close()"
   ]
  },
  {
   "cell_type": "markdown",
   "metadata": {
    "pycharm": {
     "name": "#%% md\n"
    }
   },
   "source": [
    "##### Heston + IFM"
   ]
  },
  {
   "cell_type": "code",
   "execution_count": null,
   "metadata": {
    "pycharm": {
     "name": "#%%\n"
    }
   },
   "outputs": [],
   "source": [
    "%%time\n",
    "pl_delta = []\n",
    "for _ in tqdm(range(n_episode)):\n",
    "    env.seed(_)\n",
    "    obs = env.reset()\n",
    "    delta_agent = DeltaAgentHestonIFM(Gm, Gd, 50, env._m, env._m * 0.95, T, r, sigma, rho,\n",
    "                                  0.2, 0.04, 0.1, -0.5, rho * S0)\n",
    "    done = False\n",
    "    while not done:\n",
    "        Ft = np.exp(obs[0])\n",
    "        t = T - obs[-1]\n",
    "        action = delta_agent.predict(Ft, t)\n",
    "        obs, reward, done, info = env.step(action)\n",
    "    pl_delta.append(reward)\n",
    "pl_delta = np.array(pl_delta)"
   ]
  },
  {
   "cell_type": "code",
   "execution_count": null,
   "metadata": {
    "pycharm": {
     "name": "#%%\n"
    }
   },
   "outputs": [],
   "source": [
    "# a_file = open(\"./data_delta_heston_ifm.pkl\", \"wb\")\n",
    "# pickle.dump(pl_delta, a_file)\n",
    "# a_file.close()"
   ]
  },
  {
   "cell_type": "code",
   "execution_count": null,
   "metadata": {
    "pycharm": {
     "name": "#%%\n"
    }
   },
   "outputs": [],
   "source": []
  }
 ],
 "metadata": {
  "kernelspec": {
   "display_name": "Python 3",
   "language": "python",
   "name": "python3"
  },
  "language_info": {
   "codemirror_mode": {
    "name": "ipython",
    "version": 3
   },
   "file_extension": ".py",
   "mimetype": "text/x-python",
   "name": "python",
   "nbconvert_exporter": "python",
   "pygments_lexer": "ipython3",
   "version": "3.8.2"
  }
 },
 "nbformat": 4,
 "nbformat_minor": 1
}