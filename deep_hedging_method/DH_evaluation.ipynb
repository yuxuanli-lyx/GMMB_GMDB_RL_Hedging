{
 "cells": [
  {
   "cell_type": "code",
   "execution_count": null,
   "metadata": {
    "pycharm": {
     "name": "#%%\n"
    }
   },
   "outputs": [],
   "source": [
    "import torch\n",
    "import numpy as np\n",
    "import seaborn as sns\n",
    "from utils.envs import TradingEnvUnderBSCFM\n",
    "from tqdm import tqdm\n",
    "import pickle"
   ]
  },
  {
   "cell_type": "code",
   "execution_count": null,
   "metadata": {
    "pycharm": {
     "name": "#%%\n"
    }
   },
   "outputs": [],
   "source": [
    "# Environment parameters\n",
    "S0 = 100\n",
    "mu = 0.08\n",
    "sigma = 0.2\n",
    "num_steps = 252\n",
    "r = 0.02\n",
    "T = 1\n",
    "N0 = 500\n",
    "Gm = 100\n",
    "Gd = 100\n",
    "rho = 1.19\n",
    "fom = 0.02\n",
    "financial_market_params = {'S0': S0, 'r': r, 'mu': mu, 'sigma': sigma, 'num_steps': num_steps}\n",
    "actuarial_market_params = {'N0': N0, 'Gm': Gm, 'Gd': Gd, 'rho': rho, 'fom': fom, 'T': T}"
   ]
  },
  {
   "cell_type": "code",
   "execution_count": null,
   "metadata": {
    "pycharm": {
     "name": "#%%\n"
    }
   },
   "outputs": [],
   "source": [
    "env = TradingEnvUnderBSCFM(financial_market_params, actuarial_market_params, reward_type='evaluation')"
   ]
  },
  {
   "cell_type": "code",
   "execution_count": null,
   "metadata": {
    "pycharm": {
     "name": "#%%\n"
    }
   },
   "outputs": [],
   "source": [
    "# load the DH model\n",
    "n_episode = 5000\n",
    "model_eval = torch.load('model_trial_1.pt')\n",
    "model_eval.eval()"
   ]
  },
  {
   "cell_type": "code",
   "execution_count": null,
   "metadata": {
    "pycharm": {
     "name": "#%%\n"
    }
   },
   "outputs": [],
   "source": [
    "%%time\n",
    "pl_dh = []\n",
    "for _ in tqdm(range(n_episode)):\n",
    "    env.seed(_)\n",
    "    obs = env.reset()\n",
    "    done = False\n",
    "    while not done:\n",
    "        obs_torch = torch.tensor(obs, dtype=torch.float)\n",
    "        action = model_eval(obs_torch).detach().numpy()\n",
    "        obs, reward, done, info = env.step(action)\n",
    "    pl_dh.append(reward)\n",
    "pl_dh = np.array(pl_dh)"
   ]
  },
  {
   "cell_type": "code",
   "execution_count": null,
   "metadata": {
    "pycharm": {
     "name": "#%%\n"
    }
   },
   "outputs": [],
   "source": [
    "# a_file = open(\"./data_dh.pkl\", \"wb\")\n",
    "# pickle.dump(pl_dh, a_file)\n",
    "# a_file.close()"
   ]
  }
 ],
 "metadata": {
  "kernelspec": {
   "display_name": "Python 3",
   "language": "python",
   "name": "python3"
  },
  "language_info": {
   "codemirror_mode": {
    "name": "ipython",
    "version": 3
   },
   "file_extension": ".py",
   "mimetype": "text/x-python",
   "name": "python",
   "nbconvert_exporter": "python",
   "pygments_lexer": "ipython3",
   "version": "3.8.2"
  }
 },
 "nbformat": 4,
 "nbformat_minor": 1
}